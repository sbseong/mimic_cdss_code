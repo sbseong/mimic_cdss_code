{
  "nbformat": 4,
  "nbformat_minor": 0,
  "metadata": {
    "colab": {
      "name": "data_split_resample.ipynb",
      "provenance": [],
      "collapsed_sections": [],
      "machine_shape": "hm"
    },
    "kernelspec": {
      "name": "python3",
      "display_name": "Python 3"
    },
    "language_info": {
      "name": "python"
    }
  },
  "cells": [
    {
      "cell_type": "code",
      "metadata": {
        "id": "OHDS-ty83YCD"
      },
      "source": [
        "import numpy as np\n",
        "import seaborn as sns\n",
        "import glob\n",
        "import matplotlib.pyplot as plt\n",
        "import pandas as pd\n",
        "from scipy import *\n",
        "from os import pa\n",
        "sns.set()"
      ],
      "execution_count": 1,
      "outputs": []
    },
    {
      "cell_type": "code",
      "metadata": {
        "colab": {
          "base_uri": "https://localhost:8080/"
        },
        "id": "MLkswlsI1y4e",
        "outputId": "be3eebf7-0a0a-4973-a4d2-204a0752f9f7"
      },
      "source": [
        "length = 277\n",
        "data = np.empty(shape=[0, length])\n",
        "\n",
        "all_data = glob.glob('./all_data.csv')\n",
        "\n",
        "for j in all_data:\n",
        "    print('Loading ', j)\n",
        "    csvrows = np.loadtxt(j, delimiter=',')\n",
        "    data = np.append(data, csvrows, axis=0)\n",
        "\n",
        "print(data.shape)"
      ],
      "execution_count": 4,
      "outputs": [
        {
          "output_type": "stream",
          "text": [
            "Loading  ./drive/MyDrive/COURSERA/ecg_interpret/all_data.csv\n",
            "(151452, 277)\n"
          ],
          "name": "stdout"
        }
      ]
    },
    {
      "cell_type": "markdown",
      "metadata": {
        "id": "uA3jgEg1k4CM"
      },
      "source": [
        "# Test Train Split\n",
        "\n",
        "* The beat and patient hold-out methods were used for training and testing, split into 75-25%, and 90-10% respectively.\n"
      ]
    },
    {
      "cell_type": "code",
      "metadata": {
        "colab": {
          "base_uri": "https://localhost:8080/"
        },
        "id": "UOpCXYTd3R8m",
        "outputId": "53c6c11a-bc2d-4715-edce-b6ca4e6c39ce"
      },
      "source": [
        "from sklearn.model_selection import train_test_split\n",
        "train, test = train_test_split(data,test_size=0.25,random_state=48)\n",
        "print(train.shape)\n",
        "print(test.shape)"
      ],
      "execution_count": 5,
      "outputs": [
        {
          "output_type": "stream",
          "text": [
            "(113589, 277)\n",
            "(37863, 277)\n"
          ],
          "name": "stdout"
        }
      ]
    },
    {
      "cell_type": "markdown",
      "metadata": {
        "id": "kdbajP_CkjN7"
      },
      "source": [
        "# Data Resampling\n",
        "\n",
        "* We see an abundance of ’N’ beats, while all the other beat classes do not even pass the 10,000 threshold. \n",
        "* To address the imbalance between the classes in the MIT-BIH dataset, we used the resample technique by Sci-kit Learn.\n",
        "* This resampling method uses bootstrap method which estimates statistics on a data population by sampling a dataset with replacement through iteration.\n",
        "\n"
      ]
    },
    {
      "cell_type": "markdown",
      "metadata": {
        "id": "nxTpLRDPlAv4"
      },
      "source": [
        "# Beat Split and Resample\n",
        "\n",
        "* For up-sampling and down-sampling, the sample value was calculated by taking the mean values of the total number of beats of the abnormal classes. \n",
        "* We can see beats with their respective annotation classes from both ECG channels.\n"
      ]
    },
    {
      "cell_type": "code",
      "metadata": {
        "id": "uGWkQgia3tRK"
      },
      "source": [
        "from sklearn.utils import resample\n",
        "\n",
        "N = train[train[:,-2]==1.0]\n",
        "L = train[train[:,-2]==2.0]\n",
        "R = train[train[:,-2]==3.0]\n",
        "V = train[train[:,-2]==4.0]\n",
        "A = train[train[:,-2]==5.0]\n",
        "F = train[train[:,-2]==6.0]\n",
        "f = train[train[:,-2]==7.0]\n",
        "I = train[train[:,-2]==8.0]\n",
        "\n",
        "seed=42\n",
        "np.random.seed(seed)\n",
        "def downsample(arr, n, seed):\n",
        "    downsampled = resample(arr,replace=False,n_samples=n, random_state=seed)\n",
        "    return downsampled\n",
        "\n",
        "def upsample(arr, n, seed):\n",
        "    upsampled = resample(arr,replace=True,n_samples=n,random_state=seed)\n",
        "    return upsampled\n",
        "\n",
        "all_class = [N,L,R,V,A,F,f,I]\n",
        "abn_class = [L,R,V,A,F,f,I]\n",
        "\n",
        "mean_val = np.mean([len(i) for i in abn_class], dtype= int)\n",
        "train_sampled = []\n",
        "\n",
        "for i in all_class:\n",
        "    if i.shape[0]> mean_val:\n",
        "        i = downsample(i,mean_val,seed)\n",
        "    elif i.shape[0]< mean_val:\n",
        "        i = upsample(i, mean_val,seed)\n",
        "    train_sampled.append(i)\n",
        "    \n",
        "train_values = np.concatenate(train_sampled)\n",
        "np.random.shuffle(train_values)\n",
        "train_sampled = train_values\n",
        "\n",
        "with open('./train_beats.csv', \"wb\") as fin:\n",
        "    np.savetxt(fin, train_sampled, delimiter=\",\", fmt='%f')\n",
        "\n",
        "with open('./test_beats.csv', \"wb\") as fin:\n",
        "    np.savetxt(fin, test, delimiter=\",\", fmt='%f')"
      ],
      "execution_count": 6,
      "outputs": []
    },
    {
      "cell_type": "markdown",
      "metadata": {
        "id": "mJU1O_-YlDvV"
      },
      "source": [
        "# Patient Split and Resample\n",
        "\n",
        "* Patients that were left out for testing were: 104, 208, 113, 210, 119"
      ]
    },
    {
      "cell_type": "code",
      "metadata": {
        "id": "k2Ccamat-7nv"
      },
      "source": [
        "train_patients = np.empty(shape=[0, length])\n",
        "test_patients = np.empty(shape=[0, length])\n",
        "patient_number = [104,208,113,210,119]\n",
        "\n",
        "indices = []\n",
        "noindices = []\n",
        "\n",
        "for j in range(len(patient_number)):\n",
        "    index = [i for i, x in enumerate(data[:,-1]) if x == patient_number[j]]\n",
        "    noindex = [i for i, x in enumerate(data[:,-1]) if x != patient_number[j]]\n",
        "    indices = np.append(indices, index, axis=0 )\n",
        "    noindices = np.append(noindices, noindex, axis = 0)\n",
        "\n",
        "test_patients = data[indices.astype(int).tolist()]\n",
        "train_patients = data[noindices.astype(int).tolist()]\n",
        "\n",
        "from sklearn.utils import resample\n",
        "\n",
        "N = train_patients[train_patients[:,-2]==1.0]\n",
        "L = train_patients[train_patients[:,-2]==2.0]\n",
        "R = train_patients[train_patients[:,-2]==3.0]\n",
        "V = train_patients[train_patients[:,-2]==4.0]\n",
        "A = train_patients[train_patients[:,-2]==5.0]\n",
        "F = train_patients[train_patients[:,-2]==6.0]\n",
        "f = train_patients[train_patients[:,-2]==7.0]\n",
        "I = train_patients[train_patients[:,-2]==8.0]\n",
        "\n",
        "seed=42\n",
        "np.random.seed(seed)\n",
        "def downsample(arr, n, seed):\n",
        "    downsampled = resample(arr,replace=False,n_samples=n, random_state=seed)\n",
        "    return downsampled\n",
        "\n",
        "def upsample(arr, n, seed):\n",
        "    upsampled = resample(arr,replace=True,n_samples=n,random_state=seed)\n",
        "    return upsampled\n",
        "\n",
        "all_class = [N,L,R,V,A,F,f,I]\n",
        "abn_class = [L,R,V,A,F,f,I]\n",
        "\n",
        "mean_val = np.mean([len(i) for i in abn_class], dtype= int)\n",
        "train_sampled = []\n",
        "\n",
        "for i in all_class:\n",
        "    if i.shape[0]> mean_val:\n",
        "        i = downsample(i,mean_val,seed)\n",
        "    elif i.shape[0]< mean_val:\n",
        "        i = upsample(i, mean_val,seed)\n",
        "    train_sampled.append(i)\n",
        "    \n",
        "train_sampled = np.concatenate(train_sampled)\n",
        "np.random.shuffle(train_sampled)\n",
        "train_sampled_all = train_sampled\n",
        "\n",
        "with open('./train_patients.csv', \"wb\") as fin:\n",
        "    np.savetxt(fin, train_sampled_all, delimiter=\",\", fmt='%f')\n",
        "\n",
        "with open('./test_patients.csv', \"wb\") as fin:\n",
        "    np.savetxt(fin, test_patients, delimiter=\",\", fmt='%f')"
      ],
      "execution_count": 7,
      "outputs": []
    },
    {
      "cell_type": "markdown",
      "metadata": {
        "id": "PjYBLE9Qru_f"
      },
      "source": [
        "# Load Beats and Patients Split along with All Data"
      ]
    },
    {
      "cell_type": "code",
      "metadata": {
        "id": "RJGk-4dipfie"
      },
      "source": [
        "print(\"Loading training beats...\")\n",
        "train_beats = np.genfromtxt('./train_beats.csv', delimiter=',')\n",
        "print(\"Loading testing beats...\")\n",
        "test_beats = np.genfromtxt('./test_beats.csv', delimiter=',')  \n",
        "\n",
        "print(\"Loading training patients...\")\n",
        "train_patients = np.genfromtxt('./train_patients.csv', delimiter=',')  \n",
        "print(\"Loading testing patients...\")\n",
        "test_patients = np.genfromtxt('./test_patients.csv', delimiter=',') \n",
        "\n",
        "print(\"Loading all data...\")\n",
        "all_data = np.genfromtxt('./all_data.csv', delimiter=',') "
      ],
      "execution_count": 8,
      "outputs": []
    },
    {
      "cell_type": "markdown",
      "metadata": {
        "id": "ek2VhKQwr0U_"
      },
      "source": [
        "# Function to plot counts"
      ]
    },
    {
      "cell_type": "code",
      "metadata": {
        "id": "Jda2-UzW_vIX"
      },
      "source": [
        "def plot_counts(df,name,color):\n",
        "  counts = df[275].value_counts()\n",
        "  plt.figure(figsize=(8,4))\n",
        "  feature_names = ['N','L','R','V','A','F','f','/']\n",
        "  barplt = plt.bar(counts.index, counts.values, alpha=0.8, color=color)\n",
        "  plt.title(name)\n",
        "  plt.ylabel('Number of Occurrences', fontsize=12)\n",
        "  plt.xlabel('Beat Category', fontsize=12)\n",
        "  plt.xticks(ticks=[1,2,3,4,5,6,7,8],labels=feature_names)\n",
        "  for bar in barplt:\n",
        "    yval = bar.get_height()\n",
        "    plt.text(bar.get_x()+.2, yval+600, yval)\n",
        "  plt.show()"
      ],
      "execution_count": 9,
      "outputs": []
    },
    {
      "cell_type": "markdown",
      "metadata": {
        "id": "HXF1cSVVr4TX"
      },
      "source": [
        "# Plot All Data"
      ]
    },
    {
      "cell_type": "code",
      "metadata": {
        "colab": {
          "base_uri": "https://localhost:8080/",
          "height": 301
        },
        "id": "idJ_oJ_JroS-",
        "outputId": "c80296cc-239f-42be-b98c-9150cd45b468"
      },
      "source": [
        "plot_counts(pd.DataFrame(all_data),'All Data','g')"
      ],
      "execution_count": 10,
      "outputs": [
        {
          "output_type": "display_data",
          "data": {
            "image/png": "[encoded data removed]",
            "text/plain": [
              "<Figure size 576x288 with 1 Axes>"
            ]
          },
          "metadata": {
            "tags": [],
            "needs_background": "light"
          }
        }
      ]
    },
    {
      "cell_type": "markdown",
      "metadata": {
        "id": "BvzLLdH0r6ve"
      },
      "source": [
        "# Plot Beats Split\n",
        "\n",
        "After resampling, all the 8 classes in the train dataset have 3989 samples for the beat holdout method\n"
      ]
    },
    {
      "cell_type": "code",
      "metadata": {
        "id": "WZtTelZNAVXK",
        "colab": {
          "base_uri": "https://localhost:8080/",
          "height": 598
        },
        "outputId": "6833df87-dc7a-4151-e9aa-11200e16bf08"
      },
      "source": [
        "plot_counts(pd.DataFrame(train_beats),'Train Beats','r')\n",
        "plot_counts(pd.DataFrame(test_beats),'Test Beats','b')"
      ],
      "execution_count": 11,
      "outputs": [
        {
          "output_type": "display_data",
          "data": {
            "image/png": "[encoded data removed]",
            "text/plain": [
              "<Figure size 576x288 with 1 Axes>"
            ]
          },
          "metadata": {
            "tags": [],
            "needs_background": "light"
          }
        },
        {
          "output_type": "display_data",
          "data": {
            "image/png": "[encoded data removed]",
            "text/plain": [
              "<Figure size 576x288 with 1 Axes>"
            ]
          },
          "metadata": {
            "tags": [],
            "needs_background": "light"
          }
        }
      ]
    },
    {
      "cell_type": "markdown",
      "metadata": {
        "id": "mEbMb1RHr-TK"
      },
      "source": [
        "# Plot Patients Split\n",
        "\n",
        " After resampling, all the 8 classes in the train dataset 25789 samples for patient holdout method."
      ]
    },
    {
      "cell_type": "code",
      "metadata": {
        "colab": {
          "base_uri": "https://localhost:8080/",
          "height": 585
        },
        "id": "NuJ_Fr6Ok1TQ",
        "outputId": "15f2a395-0386-4081-dc62-2fef2efcfcbc"
      },
      "source": [
        "plot_counts(pd.DataFrame(train_patients),'Train Patients','r')\n",
        "plot_counts(pd.DataFrame(test_patients),'Test Patients','b')"
      ],
      "execution_count": 12,
      "outputs": [
        {
          "output_type": "display_data",
          "data": {
            "image/png": "[encoded data removed]",
            "text/plain": [
              "<Figure size 576x288 with 1 Axes>"
            ]
          },
          "metadata": {
            "tags": [],
            "needs_background": "light"
          }
        },
        {
          "output_type": "display_data",
          "data": {
            "image/png": "[encoded data removed]",
            "text/plain": [
              "<Figure size 576x288 with 1 Axes>"
            ]
          },
          "metadata": {
            "tags": [],
            "needs_background": "light"
          }
        }
      ]
    },
    {
      "cell_type": "code",
      "metadata": {
        "id": "I8AFGAaYretz"
      },
      "source": [
        ""
      ],
      "execution_count": 12,
      "outputs": []
    }
  ]
}